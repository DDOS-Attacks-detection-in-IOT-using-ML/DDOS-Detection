{
 "cells": [
  {
   "cell_type": "code",
   "execution_count": 26,
   "outputs": [],
   "source": [
    "import pandas as pd\n",
    "import matplotlib.pyplot as plt\n",
    "from sklearn.model_selection import train_test_split\n",
    "from sklearn.metrics import accuracy_score\n",
    "from sklearn.linear_model import LogisticRegression"
   ],
   "metadata": {
    "collapsed": false,
    "ExecuteTime": {
     "start_time": "2023-04-29T20:33:10.016061Z",
     "end_time": "2023-04-29T20:33:10.023482Z"
    }
   }
  },
  {
   "cell_type": "code",
   "execution_count": 28,
   "outputs": [
    {
     "name": "stdout",
     "output_type": "stream",
     "text": [
      "[0 0 0 0 0 0 0 0 0 1 0 0 0 0 1 0 0 0 0 0]\n",
      "Accuracy of Logistic Regression: 0.85\n"
     ]
    },
    {
     "data": {
      "text/plain": "<Figure size 640x480 with 1 Axes>",
      "image/png": "[encoded data removed]"
     },
     "metadata": {},
     "output_type": "display_data"
    }
   ],
   "source": [
    "df = pd.read_csv('https://raw.githubusercontent.com/DDOS-Attacks-detection-in-IOT-using-ML/DDOS-Detection/main/DDoSdata.csv')\n",
    "\n",
    "X = df['pkts'].values.reshape(-1, 1)\n",
    "y = df['attack']\n",
    "\n",
    "X_train, X_test, y_train, y_test = train_test_split(X, y, test_size=0.2, random_state=56)\n",
    "\n",
    "lr = LogisticRegression()\n",
    "lr.fit(X_train, y_train)\n",
    "y_pred = lr.predict(X_test)\n",
    "accuracy = accuracy_score(y_test, y_pred)\n",
    "print(y_pred)\n",
    "print(\"Accuracy of Logistic Regression:\", accuracy)\n",
    "\n",
    "plt.scatter(X,y)\n",
    "plt.xlabel('Packets')\n",
    "plt.ylabel('Attacks')\n",
    "\n",
    "plt.title('LogisticRegression')\n",
    "plt.show()\n",
    "\n"
   ],
   "metadata": {
    "collapsed": false,
    "ExecuteTime": {
     "start_time": "2023-04-29T20:33:45.078010Z",
     "end_time": "2023-04-29T20:33:45.266624Z"
    }
   }
  },
  {
   "cell_type": "code",
   "execution_count": 27,
   "outputs": [
    {
     "name": "stdout",
     "output_type": "stream",
     "text": [
      "Predicted Dataset [0 0 0 0 0 0 0 0 0 0 0 0 0 0 1 0 0 0 0 0]\n",
      "Accuracy of Logistic Classifier 0.9230769230769231\n",
      "\n",
      "IPs of attacks in test set:  76    192.168.100.147\n",
      "26    192.168.100.150\n",
      "Name: saddr, dtype: object\n",
      "\n",
      "IPs of attacks in training set: \n",
      "192.168.100.147\n",
      "192.168.100.150\n",
      "192.168.100.148\n",
      "192.168.100.3\n",
      "192.168.100.150\n",
      "192.168.100.150\n",
      "192.168.100.148\n",
      "192.168.100.148\n"
     ]
    },
    {
     "name": "stderr",
     "output_type": "stream",
     "text": [
      "/Library/Python/3.9/site-packages/sklearn/base.py:439: UserWarning: X does not have valid feature names, but LogisticRegression was fitted with feature names\n",
      "  warnings.warn(\n"
     ]
    }
   ],
   "source": [
    "# Logistic Classifier\n",
    "\n",
    "from sklearn.model_selection import train_test_split\n",
    "from sklearn.metrics import accuracy_score\n",
    "import pandas as pd\n",
    "df = pd.read_csv('https://raw.githubusercontent.com/DDOS-Attacks-detection-in-IOT-using-ML/DDOS-Detection/main/DDoSdata.csv')\n",
    "\n",
    "x=df.iloc[:,:-1]\n",
    "y=df.iloc[:,-1]\n",
    "\n",
    "p = df[['pkts']]\n",
    "q = df['attack']\n",
    "\n",
    "lr = LogisticRegression()\n",
    "lr.fit(p, q)\n",
    "x_train, x_test, y_train, y_test = train_test_split(x, y, test_size = 0.4, random_state=56)\n",
    "p_train, p_test, q_train, q_test = train_test_split(p, q, test_size = 0.4, random_state=56)\n",
    "lr.fit(p_train, q_train)\n",
    "q_predict = lr.predict(p_test)\n",
    "\n",
    "y_pred = lr.predict(X_test)\n",
    "print('Predicted Dataset',y_pred)\n",
    "\n",
    "logistic_accuracy = accuracy_score(q_test, q_predict)\n",
    "print('Accuracy of Logistic Classifier',logistic_accuracy)\n",
    "\n",
    "row=x_test[x_test['attack'] ==1]\n",
    "print(\"\\nIPs of attacks in test set: \", row['saddr'])\n",
    "\n",
    "print(\"\\nIPs of attacks in training set: \")\n",
    "for index, row in x_train.iterrows():\n",
    "    if row['attack'] == 1:\n",
    "        print(row['saddr'])\n"
   ],
   "metadata": {
    "collapsed": false,
    "ExecuteTime": {
     "start_time": "2023-04-29T20:33:11.725237Z",
     "end_time": "2023-04-29T20:33:11.809952Z"
    }
   }
  },
  {
   "cell_type": "code",
   "execution_count": 15,
   "outputs": [
    {
     "name": "stdout",
     "output_type": "stream",
     "text": [
      "Predicted Data [0 0 0 0 0 0 0 1 0 0 0 0 0 0 0 0 0 0 0 0 0 0 0 0 0 0 0 0 0]\n",
      "Accuracy of KNN Classifier 0.9310344827586207\n",
      "\n",
      "IPs of attacks in test set:\n",
      " 76    192.168.100.147\n",
      "Name: saddr, dtype: object\n",
      "\n",
      "IPs of attacks in training set: \n",
      "192.168.100.150\n",
      "192.168.100.147\n",
      "192.168.100.150\n",
      "192.168.100.148\n",
      "192.168.100.3\n",
      "192.168.100.150\n",
      "192.168.100.150\n",
      "192.168.100.148\n",
      "192.168.100.148\n"
     ]
    }
   ],
   "source": [
    "# KNN Classifier\n",
    "\n",
    "from sklearn.model_selection import train_test_split\n",
    "from sklearn.metrics import accuracy_score\n",
    "from sklearn.neighbors import KNeighborsClassifier\n",
    "import matplotlib.pyplot as plt\n",
    "import pandas as pd\n",
    "\n",
    "df = pd.read_csv('https://raw.githubusercontent.com/DDOS-Attacks-detection-in-IOT-using-ML/DDOS-Detection/main/DDoSdata.csv')\n",
    "\n",
    "x=df.iloc[:,:-1]\n",
    "y=df.iloc[:,-1]\n",
    "\n",
    "p = df[['pkts','bytes']]\n",
    "q = df['attack']\n",
    "\n",
    "k = 2\n",
    "knn = KNeighborsClassifier(n_neighbors=k)\n",
    "knn.fit(p, q)\n",
    "x_train, x_test, y_train, y_test = train_test_split(x, y, test_size = 0.3, random_state = 56)\n",
    "p_train, p_test, q_train, q_test = train_test_split(p, q, test_size = 0.3, random_state = 56)\n",
    "knn.fit(p_train, q_train)\n",
    "\n",
    "q_predict = knn.predict(p_test)\n",
    "print('Predicted Data',q_predict)\n",
    "\n",
    "knn_accuracy = accuracy_score(q_test, q_predict)\n",
    "print('Accuracy of KNN Classifier',knn_accuracy)\n",
    "\n",
    "row=x_test[x_test['attack'] ==1]\n",
    "print(\"\\nIPs of attacks in test set:\\n\",row['saddr'])\n",
    "\n",
    "print(\"\\nIPs of attacks in training set: \")\n",
    "for index, row in x_train.iterrows():\n",
    "    if row['attack'] == 1:\n",
    "        print(row['saddr'])"
   ],
   "metadata": {
    "collapsed": false,
    "ExecuteTime": {
     "start_time": "2023-04-29T20:24:45.998953Z",
     "end_time": "2023-04-29T20:24:46.074371Z"
    }
   }
  },
  {
   "cell_type": "code",
   "execution_count": 10,
   "outputs": [
    {
     "name": "stdout",
     "output_type": "stream",
     "text": [
      "Predicted Dataset [0 0 0 0 0 0 0 0 0 1 0 0 0 0 0 0 0 0 0 0]\n",
      "Accuracy of Decision Tree Classifier 0.9\n",
      "\n",
      "IPs of attacks in test set: \n",
      " 76    192.168.100.147\n",
      "Name: saddr, dtype: object\n",
      "\n",
      "IPs of attacks in training set: \n",
      "192.168.100.150\n",
      "192.168.100.147\n",
      "192.168.100.150\n",
      "192.168.100.148\n",
      "192.168.100.3\n",
      "192.168.100.150\n",
      "192.168.100.150\n",
      "192.168.100.148\n",
      "192.168.100.148\n"
     ]
    }
   ],
   "source": [
    "# Decision Tree Classifier\n",
    "\n",
    "from sklearn.tree import DecisionTreeClassifier\n",
    "\n",
    "x=df.iloc[:,:-1]\n",
    "y=df.iloc[:,-1]\n",
    "\n",
    "p = df[['pkts']]\n",
    "q = df['attack']\n",
    "dt = DecisionTreeClassifier()\n",
    "dt.fit(p, q)\n",
    "\n",
    "x_train, x_test, y_train, y_test = train_test_split(x, y, test_size = 0.2, random_state = 56)\n",
    "p_train, p_test, q_train, q_test = train_test_split(p, q, test_size = 0.2, random_state = 56)\n",
    "dt.fit(p_train, q_train)\n",
    "q_predict = dt.predict(p_test)\n",
    "classifier = DecisionTreeClassifier()\n",
    "classifier.fit(p_train,q_train)\n",
    "y_pred = classifier.predict(p_test)\n",
    "print('Predicted Dataset',y_pred)\n",
    "\n",
    "decision_accuracy = accuracy_score(q_test, q_predict)\n",
    "print('Accuracy of Decision Tree Classifier',decision_accuracy)\n",
    "\n",
    "row=x_test[x_test['attack'] ==1]\n",
    "print(\"\\nIPs of attacks in test set: \\n\", row['saddr'])\n",
    "\n",
    "print(\"\\nIPs of attacks in training set: \")\n",
    "for index, row in x_train.iterrows():\n",
    "    if row['attack'] == 1:\n",
    "        print(row['saddr'])"
   ],
   "metadata": {
    "collapsed": false,
    "ExecuteTime": {
     "start_time": "2023-04-29T20:19:32.081444Z",
     "end_time": "2023-04-29T20:19:32.105449Z"
    }
   }
  },
  {
   "cell_type": "code",
   "execution_count": 71,
   "outputs": [
    {
     "data": {
      "text/plain": "<Figure size 640x480 with 1 Axes>",
      "image/png": "[encoded data removed]"
     },
     "metadata": {},
     "output_type": "display_data"
    }
   ],
   "source": [
    "plt.bar(['Logistic Regression', 'Decision Tree', 'KNN'], [logistic_accuracy, decision_accuracy, knn_accuracy])\n",
    "plt.xlabel('Algorithm')\n",
    "plt.ylabel('Accuracy')\n",
    "\n",
    "# Add a title to the plot\n",
    "plt.title('Accuracy Scores for Different Machine Learning Algorithms')\n",
    "# Show the plot\n",
    "plt.show()"
   ],
   "metadata": {
    "collapsed": false,
    "ExecuteTime": {
     "start_time": "2023-04-29T19:29:36.925020Z",
     "end_time": "2023-04-29T19:29:37.069059Z"
    }
   }
  },
  {
   "cell_type": "code",
   "execution_count": null,
   "outputs": [],
   "source": [],
   "metadata": {
    "collapsed": false
   }
  }
 ],
 "metadata": {
  "kernelspec": {
   "display_name": "Python 3",
   "language": "python",
   "name": "python3"
  },
  "language_info": {
   "codemirror_mode": {
    "name": "ipython",
    "version": 2
   },
   "file_extension": ".py",
   "mimetype": "text/x-python",
   "name": "python",
   "nbconvert_exporter": "python",
   "pygments_lexer": "ipython2",
   "version": "2.7.6"
  }
 },
 "nbformat": 4,
 "nbformat_minor": 0
}
