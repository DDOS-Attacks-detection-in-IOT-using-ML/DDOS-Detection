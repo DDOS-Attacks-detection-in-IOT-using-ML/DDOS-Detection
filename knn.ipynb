{
 "cells": [
  {
   "cell_type": "code",
   "execution_count": 23,
   "metadata": {
    "collapsed": true,
    "ExecuteTime": {
     "start_time": "2023-04-28T17:27:26.005332Z",
     "end_time": "2023-04-28T17:27:26.116713Z"
    }
   },
   "outputs": [
    {
     "name": "stdout",
     "output_type": "stream",
     "text": [
      "Accuracy of KNN Classifier 0.9\n",
      "35    192.168.100.150\n",
      "Name: saddr, dtype: object\n"
     ]
    }
   ],
   "source": [
    "# KNN Classifier\n",
    "\n",
    "from sklearn.neighbors import KNeighborsClassifier\n",
    "from sklearn.model_selection import train_test_split\n",
    "from sklearn.metrics import accuracy_score\n",
    "from sklearn.neighbors import KNeighborsClassifier\n",
    "import matplotlib.pyplot as plt\n",
    "import numpy as np\n",
    "import pandas as pd\n",
    "df = pd.read_csv('https://raw.githubusercontent.com/DDOS-Attacks-detection-in-IOT-using-ML/DDOS-Detection/main/DDoSdata.csv')\n",
    "# df['saddr'] = df['saddr'].astype(float)\n",
    "# cols=[float('saddr')]\n",
    "# df.head()\n",
    "x=df.iloc[:,:-1]\n",
    "# print(x.head)\n",
    "u=df.iloc[:,-1]\n",
    "\n",
    "p = df[['pkts','bytes']]\n",
    "q = df['attack']\n",
    "\n",
    "k = 2\n",
    "knn = KNeighborsClassifier(n_neighbors=k)\n",
    "knn.fit(p, q)\n",
    "x_train, x_test, u_train, u_test = train_test_split(x, u, test_size = 0.2, random_state = 56)\n",
    "p_train, p_test, q_train, q_test = train_test_split(p, q, test_size = 0.2, random_state = 56)\n",
    "# print(p_test)\n",
    "# print(\"Hello Jay\")\n",
    "# print(q_train)\n",
    "# print(q_test)\n",
    "# print(q_test.name)\n",
    "knn.fit(p_train, q_train)\n",
    "q_predict = knn.predict(p_test)\n",
    "# print(x_train)\n",
    "# print(x_test)\n",
    "x_test['attack']=q_predict\n",
    "# print(x_test)\n",
    "\n",
    "# u_predict= knn.predict(x_test)\n",
    "#q_predict = q_predict.reshape(p_train.shape)\n",
    "accuracy = accuracy_score(q_test, q_predict)\n",
    "print('Accuracy of KNN Classifier',accuracy)\n",
    "# print(q_predict)\n",
    "row=x_test[x_test['attack']==1]\n",
    "print(row['saddr'])\n",
    "# print(row)\n",
    "# l1=[]\n",
    "# for i in q_predict:\n",
    "\n",
    "#     if(i == 1):\n",
    "#         l1.append(i)\n",
    "\n",
    "\n",
    "# plt.scatter(p,q)\n",
    "# plt.xlabel('Packets')\n",
    "# plt.ylabel('Source IP Address')\n",
    "#\n",
    "# plt.title('KNN Classifier')\n",
    "# plt.show()"
   ]
  },
  {
   "cell_type": "code",
   "execution_count": 18,
   "outputs": [
    {
     "data": {
      "text/plain": "(96,)"
     },
     "execution_count": 18,
     "metadata": {},
     "output_type": "execute_result"
    }
   ],
   "source": [
    "# x.shape\n",
    "u.shape"
   ],
   "metadata": {
    "collapsed": false,
    "ExecuteTime": {
     "start_time": "2023-04-28T17:24:23.964045Z",
     "end_time": "2023-04-28T17:24:23.986058Z"
    }
   }
  },
  {
   "cell_type": "code",
   "execution_count": 19,
   "outputs": [
    {
     "data": {
      "text/plain": "(96, 47)"
     },
     "execution_count": 19,
     "metadata": {},
     "output_type": "execute_result"
    }
   ],
   "source": [
    "x.shape"
   ],
   "metadata": {
    "collapsed": false,
    "ExecuteTime": {
     "start_time": "2023-04-28T17:24:45.247237Z",
     "end_time": "2023-04-28T17:24:45.290739Z"
    }
   }
  },
  {
   "cell_type": "code",
   "execution_count": 6,
   "outputs": [
    {
     "data": {
      "text/plain": "   Unnamed: 0  pkSeqID       stime flgs  flgs_number proto  proto_number   \n0     1650261  1650261  1528102921    e            1   tcp             1  \\\n1     1650263  1650263  1528102921    e            1   tcp             1   \n2     1650290  1650290  1528102921    e            1   tcp             1   \n3     1650357  1650357  1528102921  e s            2   tcp             1   \n4     1650358  1650358  1528102921  e s            2   tcp             1   \n\n             saddr  sport          daddr  ... AR_P_Proto_P_SrcIP   \n0  192.168.100.150  54110  192.168.100.3  ...           1.268890  \\\n1  192.168.100.150  54114  192.168.100.3  ...           1.268890   \n2  192.168.100.149  41656  192.168.100.3  ...           0.744362   \n3  192.168.100.149  41784  192.168.100.3  ...           0.757028   \n4  192.168.100.149  41786  192.168.100.3  ...           0.757028   \n\n  AR_P_Proto_P_DstIP  N_IN_Conn_P_DstIP  N_IN_Conn_P_SrcIP   \n0           1.216620                 40                 38  \\\n1           1.216620                 40                 38   \n2           1.216620                 40                  2   \n3           0.898047                100                 46   \n4           0.898047                100                 46   \n\n   AR_P_Proto_P_Sport AR_P_Proto_P_Dport  Pkts_P_State_P_Protocol_P_DestIP   \n0            1.560930           1.216620                               328  \\\n1            1.249800           1.216620                               328   \n2            0.744062           1.216620                               328   \n3            1.119040           0.898047                              1016   \n4            0.820645           0.898047                              1016   \n\n   Pkts_P_State_P_Protocol_P_SrcIP  Unnamed: 46  subcategory  \n0                              308          NaN         HTTP  \n1                              308          NaN         HTTP  \n2                               20          NaN         HTTP  \n3                              467          NaN         HTTP  \n4                              467          NaN         HTTP  \n\n[5 rows x 48 columns]",
      "text/html": "<div>\n<style scoped>\n    .dataframe tbody tr th:only-of-type {\n        vertical-align: middle;\n    }\n\n    .dataframe tbody tr th {\n        vertical-align: top;\n    }\n\n    .dataframe thead th {\n        text-align: right;\n    }\n</style>\n<table border=\"1\" class=\"dataframe\">\n  <thead>\n    <tr style=\"text-align: right;\">\n      <th></th>\n      <th>Unnamed: 0</th>\n      <th>pkSeqID</th>\n      <th>stime</th>\n      <th>flgs</th>\n      <th>flgs_number</th>\n      <th>proto</th>\n      <th>proto_number</th>\n      <th>saddr</th>\n      <th>sport</th>\n      <th>daddr</th>\n      <th>...</th>\n      <th>AR_P_Proto_P_SrcIP</th>\n      <th>AR_P_Proto_P_DstIP</th>\n      <th>N_IN_Conn_P_DstIP</th>\n      <th>N_IN_Conn_P_SrcIP</th>\n      <th>AR_P_Proto_P_Sport</th>\n      <th>AR_P_Proto_P_Dport</th>\n      <th>Pkts_P_State_P_Protocol_P_DestIP</th>\n      <th>Pkts_P_State_P_Protocol_P_SrcIP</th>\n      <th>Unnamed: 46</th>\n      <th>subcategory</th>\n    </tr>\n  </thead>\n  <tbody>\n    <tr>\n      <th>0</th>\n      <td>1650261</td>\n      <td>1650261</td>\n      <td>1528102921</td>\n      <td>e</td>\n      <td>1</td>\n      <td>tcp</td>\n      <td>1</td>\n      <td>192.168.100.150</td>\n      <td>54110</td>\n      <td>192.168.100.3</td>\n      <td>...</td>\n      <td>1.268890</td>\n      <td>1.216620</td>\n      <td>40</td>\n      <td>38</td>\n      <td>1.560930</td>\n      <td>1.216620</td>\n      <td>328</td>\n      <td>308</td>\n      <td>NaN</td>\n      <td>HTTP</td>\n    </tr>\n    <tr>\n      <th>1</th>\n      <td>1650263</td>\n      <td>1650263</td>\n      <td>1528102921</td>\n      <td>e</td>\n      <td>1</td>\n      <td>tcp</td>\n      <td>1</td>\n      <td>192.168.100.150</td>\n      <td>54114</td>\n      <td>192.168.100.3</td>\n      <td>...</td>\n      <td>1.268890</td>\n      <td>1.216620</td>\n      <td>40</td>\n      <td>38</td>\n      <td>1.249800</td>\n      <td>1.216620</td>\n      <td>328</td>\n      <td>308</td>\n      <td>NaN</td>\n      <td>HTTP</td>\n    </tr>\n    <tr>\n      <th>2</th>\n      <td>1650290</td>\n      <td>1650290</td>\n      <td>1528102921</td>\n      <td>e</td>\n      <td>1</td>\n      <td>tcp</td>\n      <td>1</td>\n      <td>192.168.100.149</td>\n      <td>41656</td>\n      <td>192.168.100.3</td>\n      <td>...</td>\n      <td>0.744362</td>\n      <td>1.216620</td>\n      <td>40</td>\n      <td>2</td>\n      <td>0.744062</td>\n      <td>1.216620</td>\n      <td>328</td>\n      <td>20</td>\n      <td>NaN</td>\n      <td>HTTP</td>\n    </tr>\n    <tr>\n      <th>3</th>\n      <td>1650357</td>\n      <td>1650357</td>\n      <td>1528102921</td>\n      <td>e s</td>\n      <td>2</td>\n      <td>tcp</td>\n      <td>1</td>\n      <td>192.168.100.149</td>\n      <td>41784</td>\n      <td>192.168.100.3</td>\n      <td>...</td>\n      <td>0.757028</td>\n      <td>0.898047</td>\n      <td>100</td>\n      <td>46</td>\n      <td>1.119040</td>\n      <td>0.898047</td>\n      <td>1016</td>\n      <td>467</td>\n      <td>NaN</td>\n      <td>HTTP</td>\n    </tr>\n    <tr>\n      <th>4</th>\n      <td>1650358</td>\n      <td>1650358</td>\n      <td>1528102921</td>\n      <td>e s</td>\n      <td>2</td>\n      <td>tcp</td>\n      <td>1</td>\n      <td>192.168.100.149</td>\n      <td>41786</td>\n      <td>192.168.100.3</td>\n      <td>...</td>\n      <td>0.757028</td>\n      <td>0.898047</td>\n      <td>100</td>\n      <td>46</td>\n      <td>0.820645</td>\n      <td>0.898047</td>\n      <td>1016</td>\n      <td>467</td>\n      <td>NaN</td>\n      <td>HTTP</td>\n    </tr>\n  </tbody>\n</table>\n<p>5 rows × 48 columns</p>\n</div>"
     },
     "execution_count": 6,
     "metadata": {},
     "output_type": "execute_result"
    }
   ],
   "source": [
    "df.head()"
   ],
   "metadata": {
    "collapsed": false,
    "ExecuteTime": {
     "start_time": "2023-04-28T17:20:30.661660Z",
     "end_time": "2023-04-28T17:20:30.699678Z"
    }
   }
  },
  {
   "cell_type": "code",
   "execution_count": 14,
   "outputs": [
    {
     "data": {
      "text/plain": "   Unnamed: 0  pkSeqID       stime flgs  flgs_number proto  proto_number   \n0     1650261  1650261  1528102921    e            1   tcp             1  \\\n1     1650263  1650263  1528102921    e            1   tcp             1   \n2     1650290  1650290  1528102921    e            1   tcp             1   \n3     1650357  1650357  1528102921  e s            2   tcp             1   \n4     1650358  1650358  1528102921  e s            2   tcp             1   \n\n             saddr  sport          daddr  ... TnP_Per_Dport   \n0  192.168.100.150  54110  192.168.100.3  ...           700  \\\n1  192.168.100.150  54114  192.168.100.3  ...           700   \n2  192.168.100.149  41656  192.168.100.3  ...           700   \n3  192.168.100.149  41784  192.168.100.3  ...          1016   \n4  192.168.100.149  41786  192.168.100.3  ...          1016   \n\n  AR_P_Proto_P_SrcIP  AR_P_Proto_P_DstIP  N_IN_Conn_P_DstIP   \n0           1.268890            1.216620                 40  \\\n1           1.268890            1.216620                 40   \n2           0.744362            1.216620                 40   \n3           0.757028            0.898047                100   \n4           0.757028            0.898047                100   \n\n   N_IN_Conn_P_SrcIP AR_P_Proto_P_Sport  AR_P_Proto_P_Dport   \n0                 38           1.560930            1.216620  \\\n1                 38           1.249800            1.216620   \n2                  2           0.744062            1.216620   \n3                 46           1.119040            0.898047   \n4                 46           0.820645            0.898047   \n\n   Pkts_P_State_P_Protocol_P_DestIP  Pkts_P_State_P_Protocol_P_SrcIP   \n0                               328                              308  \\\n1                               328                              308   \n2                               328                               20   \n3                              1016                              467   \n4                              1016                              467   \n\n   Unnamed: 46  \n0          NaN  \n1          NaN  \n2          NaN  \n3          NaN  \n4          NaN  \n\n[5 rows x 47 columns]",
      "text/html": "<div>\n<style scoped>\n    .dataframe tbody tr th:only-of-type {\n        vertical-align: middle;\n    }\n\n    .dataframe tbody tr th {\n        vertical-align: top;\n    }\n\n    .dataframe thead th {\n        text-align: right;\n    }\n</style>\n<table border=\"1\" class=\"dataframe\">\n  <thead>\n    <tr style=\"text-align: right;\">\n      <th></th>\n      <th>Unnamed: 0</th>\n      <th>pkSeqID</th>\n      <th>stime</th>\n      <th>flgs</th>\n      <th>flgs_number</th>\n      <th>proto</th>\n      <th>proto_number</th>\n      <th>saddr</th>\n      <th>sport</th>\n      <th>daddr</th>\n      <th>...</th>\n      <th>TnP_Per_Dport</th>\n      <th>AR_P_Proto_P_SrcIP</th>\n      <th>AR_P_Proto_P_DstIP</th>\n      <th>N_IN_Conn_P_DstIP</th>\n      <th>N_IN_Conn_P_SrcIP</th>\n      <th>AR_P_Proto_P_Sport</th>\n      <th>AR_P_Proto_P_Dport</th>\n      <th>Pkts_P_State_P_Protocol_P_DestIP</th>\n      <th>Pkts_P_State_P_Protocol_P_SrcIP</th>\n      <th>Unnamed: 46</th>\n    </tr>\n  </thead>\n  <tbody>\n    <tr>\n      <th>0</th>\n      <td>1650261</td>\n      <td>1650261</td>\n      <td>1528102921</td>\n      <td>e</td>\n      <td>1</td>\n      <td>tcp</td>\n      <td>1</td>\n      <td>192.168.100.150</td>\n      <td>54110</td>\n      <td>192.168.100.3</td>\n      <td>...</td>\n      <td>700</td>\n      <td>1.268890</td>\n      <td>1.216620</td>\n      <td>40</td>\n      <td>38</td>\n      <td>1.560930</td>\n      <td>1.216620</td>\n      <td>328</td>\n      <td>308</td>\n      <td>NaN</td>\n    </tr>\n    <tr>\n      <th>1</th>\n      <td>1650263</td>\n      <td>1650263</td>\n      <td>1528102921</td>\n      <td>e</td>\n      <td>1</td>\n      <td>tcp</td>\n      <td>1</td>\n      <td>192.168.100.150</td>\n      <td>54114</td>\n      <td>192.168.100.3</td>\n      <td>...</td>\n      <td>700</td>\n      <td>1.268890</td>\n      <td>1.216620</td>\n      <td>40</td>\n      <td>38</td>\n      <td>1.249800</td>\n      <td>1.216620</td>\n      <td>328</td>\n      <td>308</td>\n      <td>NaN</td>\n    </tr>\n    <tr>\n      <th>2</th>\n      <td>1650290</td>\n      <td>1650290</td>\n      <td>1528102921</td>\n      <td>e</td>\n      <td>1</td>\n      <td>tcp</td>\n      <td>1</td>\n      <td>192.168.100.149</td>\n      <td>41656</td>\n      <td>192.168.100.3</td>\n      <td>...</td>\n      <td>700</td>\n      <td>0.744362</td>\n      <td>1.216620</td>\n      <td>40</td>\n      <td>2</td>\n      <td>0.744062</td>\n      <td>1.216620</td>\n      <td>328</td>\n      <td>20</td>\n      <td>NaN</td>\n    </tr>\n    <tr>\n      <th>3</th>\n      <td>1650357</td>\n      <td>1650357</td>\n      <td>1528102921</td>\n      <td>e s</td>\n      <td>2</td>\n      <td>tcp</td>\n      <td>1</td>\n      <td>192.168.100.149</td>\n      <td>41784</td>\n      <td>192.168.100.3</td>\n      <td>...</td>\n      <td>1016</td>\n      <td>0.757028</td>\n      <td>0.898047</td>\n      <td>100</td>\n      <td>46</td>\n      <td>1.119040</td>\n      <td>0.898047</td>\n      <td>1016</td>\n      <td>467</td>\n      <td>NaN</td>\n    </tr>\n    <tr>\n      <th>4</th>\n      <td>1650358</td>\n      <td>1650358</td>\n      <td>1528102921</td>\n      <td>e s</td>\n      <td>2</td>\n      <td>tcp</td>\n      <td>1</td>\n      <td>192.168.100.149</td>\n      <td>41786</td>\n      <td>192.168.100.3</td>\n      <td>...</td>\n      <td>1016</td>\n      <td>0.757028</td>\n      <td>0.898047</td>\n      <td>100</td>\n      <td>46</td>\n      <td>0.820645</td>\n      <td>0.898047</td>\n      <td>1016</td>\n      <td>467</td>\n      <td>NaN</td>\n    </tr>\n  </tbody>\n</table>\n<p>5 rows × 47 columns</p>\n</div>"
     },
     "execution_count": 14,
     "metadata": {},
     "output_type": "execute_result"
    }
   ],
   "source": [
    "x.head()"
   ],
   "metadata": {
    "collapsed": false,
    "ExecuteTime": {
     "start_time": "2023-04-28T17:22:31.315143Z",
     "end_time": "2023-04-28T17:22:31.370156Z"
    }
   }
  },
  {
   "cell_type": "code",
   "execution_count": null,
   "outputs": [],
   "source": [],
   "metadata": {
    "collapsed": false
   }
  }
 ],
 "metadata": {
  "kernelspec": {
   "display_name": "Python 3",
   "language": "python",
   "name": "python3"
  },
  "language_info": {
   "codemirror_mode": {
    "name": "ipython",
    "version": 2
   },
   "file_extension": ".py",
   "mimetype": "text/x-python",
   "name": "python",
   "nbconvert_exporter": "python",
   "pygments_lexer": "ipython2",
   "version": "2.7.6"
  }
 },
 "nbformat": 4,
 "nbformat_minor": 0
}
