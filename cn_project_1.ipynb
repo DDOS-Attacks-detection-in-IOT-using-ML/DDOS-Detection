{
 "cells": [
  {
   "cell_type": "code",
   "execution_count": 45,
   "id": "4639ecae",
   "metadata": {},
   "outputs": [
    {
     "data": {
      "text/html": [
       "<div>\n",
       "<style scoped>\n",
       "    .dataframe tbody tr th:only-of-type {\n",
       "        vertical-align: middle;\n",
       "    }\n",
       "\n",
       "    .dataframe tbody tr th {\n",
       "        vertical-align: top;\n",
       "    }\n",
       "\n",
       "    .dataframe thead th {\n",
       "        text-align: right;\n",
       "    }\n",
       "</style>\n",
       "<table border=\"1\" class=\"dataframe\">\n",
       "  <thead>\n",
       "    <tr style=\"text-align: right;\">\n",
       "      <th></th>\n",
       "      <th>saddr</th>\n",
       "      <th>daddr</th>\n",
       "      <th>pkts</th>\n",
       "    </tr>\n",
       "  </thead>\n",
       "  <tbody>\n",
       "    <tr>\n",
       "      <th>0</th>\n",
       "      <td>192.168.100.150</td>\n",
       "      <td>192.168.100.3</td>\n",
       "      <td>10</td>\n",
       "    </tr>\n",
       "    <tr>\n",
       "      <th>1</th>\n",
       "      <td>192.168.100.150</td>\n",
       "      <td>192.168.100.3</td>\n",
       "      <td>8</td>\n",
       "    </tr>\n",
       "    <tr>\n",
       "      <th>2</th>\n",
       "      <td>192.168.100.149</td>\n",
       "      <td>192.168.100.3</td>\n",
       "      <td>10</td>\n",
       "    </tr>\n",
       "    <tr>\n",
       "      <th>3</th>\n",
       "      <td>192.168.100.149</td>\n",
       "      <td>192.168.100.3</td>\n",
       "      <td>15</td>\n",
       "    </tr>\n",
       "    <tr>\n",
       "      <th>4</th>\n",
       "      <td>192.168.100.149</td>\n",
       "      <td>192.168.100.3</td>\n",
       "      <td>11</td>\n",
       "    </tr>\n",
       "    <tr>\n",
       "      <th>...</th>\n",
       "      <td>...</td>\n",
       "      <td>...</td>\n",
       "      <td>...</td>\n",
       "    </tr>\n",
       "    <tr>\n",
       "      <th>91</th>\n",
       "      <td>192.168.100.150</td>\n",
       "      <td>192.168.100.3</td>\n",
       "      <td>14</td>\n",
       "    </tr>\n",
       "    <tr>\n",
       "      <th>92</th>\n",
       "      <td>192.168.100.3</td>\n",
       "      <td>192.168.100.147</td>\n",
       "      <td>21</td>\n",
       "    </tr>\n",
       "    <tr>\n",
       "      <th>93</th>\n",
       "      <td>192.168.100.3</td>\n",
       "      <td>192.168.100.148</td>\n",
       "      <td>21</td>\n",
       "    </tr>\n",
       "    <tr>\n",
       "      <th>94</th>\n",
       "      <td>192.168.100.3</td>\n",
       "      <td>192.168.100.150</td>\n",
       "      <td>21</td>\n",
       "    </tr>\n",
       "    <tr>\n",
       "      <th>95</th>\n",
       "      <td>192.168.100.3</td>\n",
       "      <td>192.168.100.149</td>\n",
       "      <td>21</td>\n",
       "    </tr>\n",
       "  </tbody>\n",
       "</table>\n",
       "<p>96 rows × 3 columns</p>\n",
       "</div>"
      ],
      "text/plain": [
       "              saddr            daddr  pkts\n",
       "0   192.168.100.150    192.168.100.3    10\n",
       "1   192.168.100.150    192.168.100.3     8\n",
       "2   192.168.100.149    192.168.100.3    10\n",
       "3   192.168.100.149    192.168.100.3    15\n",
       "4   192.168.100.149    192.168.100.3    11\n",
       "..              ...              ...   ...\n",
       "91  192.168.100.150    192.168.100.3    14\n",
       "92    192.168.100.3  192.168.100.147    21\n",
       "93    192.168.100.3  192.168.100.148    21\n",
       "94    192.168.100.3  192.168.100.150    21\n",
       "95    192.168.100.3  192.168.100.149    21\n",
       "\n",
       "[96 rows x 3 columns]"
      ]
     },
     "execution_count": 45,
     "metadata": {},
     "output_type": "execute_result"
    }
   ],
   "source": [
    "import pandas as pd\n",
    "\n",
    "# read the CSV file\n",
    "df = pd.read_csv('https://raw.githubusercontent.com/DDOS-Attacks-detection-in-IOT-using-ML/DDOS-Detection/main/DDoSdata.csv')\n",
    "cols=['saddr','daddr','pkts']\n",
    "df[cols]"
   ]
  },
  {
   "cell_type": "code",
   "execution_count": 46,
   "id": "d882c233",
   "metadata": {},
   "outputs": [
    {
     "name": "stdout",
     "output_type": "stream",
     "text": [
      "saddr              \n",
      "192.168.100.147  6     -2.0\n",
      "                 8     -1.0\n",
      "                 18    -1.0\n",
      "                 19    -1.0\n",
      "                 25     7.0\n",
      "                       ... \n",
      "192.168.100.3    89     2.0\n",
      "                 92    12.0\n",
      "                 93     0.0\n",
      "                 94     0.0\n",
      "                 95     0.0\n",
      "Name: pkts, Length: 65, dtype: float64\n"
     ]
    }
   ],
   "source": [
    "filtered_df = df[df['pkts'] >= 6]\n",
    "\n",
    "# group the filtered dataframe by saddr and apply the difference calculation\n",
    "result = filtered_df.groupby('saddr')['pkts'].apply(lambda x: x.diff().dropna())\n",
    "\n",
    "print(result)"
   ]
  },
  {
   "cell_type": "code",
   "execution_count": 47,
   "id": "aa56f677",
   "metadata": {
    "ExecuteTime": {
     "end_time": "2023-04-26T19:08:09.093328Z",
     "start_time": "2023-04-26T19:07:55.094515Z"
    }
   },
   "outputs": [
    {
     "name": "stdout",
     "output_type": "stream",
     "text": [
      "['192.168.100.150' '192.168.100.149' '192.168.100.147' '192.168.100.148'\n",
      " '192.168.100.3']\n"
     ]
    }
   ],
   "source": [
    "import pandas as pd\n",
    "\n",
    "# read the CSV file\n",
    "# df = pd.read_csv('C:/Users/dpatel112/OneDrive - Cal State LA/Spring 2023/CS5470 Computer Network/Presentation/DDoSdata.csv',low_memory=False)\n",
    "unique_values = df['saddr'].unique()\n",
    "# unique_values = df['name'].unique()\n",
    "print(unique_values)\n",
    "desired_rows = []\n",
    "my_dict = {}\n",
    "for i in unique_values:\n",
    "    desired_rows = df[df['saddr'] == i]\n",
    "    # desired_rows = df[df['name'] == i]\n",
    "    my_dict[i] = desired_rows['pkts'].values.__array__()\n",
    "# print(my_dict['192.168.100.150'].values)"
   ]
  },
  {
   "cell_type": "code",
   "execution_count": 48,
   "id": "09898ee5",
   "metadata": {
    "ExecuteTime": {
     "end_time": "2023-04-26T19:16:24.016673Z",
     "start_time": "2023-04-26T19:16:23.128387Z"
    },
    "scrolled": true
   },
   "outputs": [
    {
     "name": "stdout",
     "output_type": "stream",
     "text": [
      "DDOS attack on IP Address:  192.168.100.150 with a packet difference of  11\n",
      "DDOS attack on IP Address:  192.168.100.150 with a packet difference of  7\n",
      "DDOS attack on IP Address:  192.168.100.150 with a packet difference of  6\n",
      "DDOS attack on IP Address:  192.168.100.147 with a packet difference of  7\n",
      "DDOS attack on IP Address:  192.168.100.147 with a packet difference of  13\n",
      "DDOS attack on IP Address:  192.168.100.148 with a packet difference of  8\n",
      "DDOS attack on IP Address:  192.168.100.148 with a packet difference of  9\n",
      "DDOS attack on IP Address:  192.168.100.148 with a packet difference of  9\n",
      "DDOS attack on IP Address:  192.168.100.3 with a packet difference of  16\n"
     ]
    }
   ],
   "source": [
    "for key,value in my_dict.items(): # get a list of dictionary items\n",
    "    for i in range(len(value) -1):  # iterate over the list of items\n",
    "        diff = value[i+1] - value[i]\n",
    "        if diff >= 6:\n",
    "            print('DDOS attack on IP Address: ', key, \"with a packet difference of \", diff)\n"
   ]
  },
  {
   "cell_type": "code",
   "execution_count": null,
   "id": "317d32a3",
   "metadata": {},
   "outputs": [],
   "source": []
  },
  {
   "cell_type": "code",
   "execution_count": null,
   "id": "487aa3f1",
   "metadata": {},
   "outputs": [],
   "source": []
  }
 ],
 "metadata": {
  "kernelspec": {
   "display_name": "Python 3 (ipykernel)",
   "language": "python",
   "name": "python3"
  },
  "language_info": {
   "codemirror_mode": {
    "name": "ipython",
    "version": 3
   },
   "file_extension": ".py",
   "mimetype": "text/x-python",
   "name": "python",
   "nbconvert_exporter": "python",
   "pygments_lexer": "ipython3",
   "version": "3.9.12"
  }
 },
 "nbformat": 4,
 "nbformat_minor": 5
}
