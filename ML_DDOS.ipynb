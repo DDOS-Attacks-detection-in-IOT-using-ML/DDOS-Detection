{
 "cells": [
  {
   "cell_type": "code",
   "execution_count": 28,
   "metadata": {
    "collapsed": true,
    "ExecuteTime": {
     "start_time": "2023-04-28T11:34:57.331987Z",
     "end_time": "2023-04-28T11:34:59.964929Z"
    }
   },
   "outputs": [
    {
     "name": "stdout",
     "output_type": "stream",
     "text": [
      "Requirement already satisfied: smote_variants in c:\\users\\dpatel112\\appdata\\local\\programs\\python\\python39\\lib\\site-packages (0.7.1)\n",
      "Requirement already satisfied: numpy>=1.13.0 in c:\\users\\dpatel112\\appdata\\local\\programs\\python\\python39\\lib\\site-packages (from smote_variants) (1.23.5)\n",
      "Requirement already satisfied: scipy in c:\\users\\dpatel112\\appdata\\local\\programs\\python\\python39\\lib\\site-packages (from smote_variants) (1.10.1)\n",
      "Requirement already satisfied: scikit-learn in c:\\users\\dpatel112\\appdata\\local\\programs\\python\\python39\\lib\\site-packages (from smote_variants) (1.2.2)\n",
      "Requirement already satisfied: joblib in c:\\users\\dpatel112\\appdata\\local\\programs\\python\\python39\\lib\\site-packages (from smote_variants) (1.2.0)\n",
      "Requirement already satisfied: minisom in c:\\users\\dpatel112\\appdata\\local\\programs\\python\\python39\\lib\\site-packages (from smote_variants) (2.3.1)\n",
      "Requirement already satisfied: statistics in c:\\users\\dpatel112\\appdata\\local\\programs\\python\\python39\\lib\\site-packages (from smote_variants) (1.0.3.5)\n",
      "Requirement already satisfied: tensorflow in c:\\users\\dpatel112\\appdata\\local\\programs\\python\\python39\\lib\\site-packages (from smote_variants) (2.12.0)\n",
      "Requirement already satisfied: keras in c:\\users\\dpatel112\\appdata\\local\\programs\\python\\python39\\lib\\site-packages (from smote_variants) (2.12.0)\n",
      "Requirement already satisfied: pandas in c:\\users\\dpatel112\\appdata\\local\\programs\\python\\python39\\lib\\site-packages (from smote_variants) (2.0.1)\n",
      "Requirement already satisfied: mkl in c:\\users\\dpatel112\\appdata\\local\\programs\\python\\python39\\lib\\site-packages (from smote_variants) (2023.1.0)\n",
      "Requirement already satisfied: metric-learn in c:\\users\\dpatel112\\appdata\\local\\programs\\python\\python39\\lib\\site-packages (from smote_variants) (0.6.2)\n",
      "Requirement already satisfied: seaborn in c:\\users\\dpatel112\\appdata\\local\\programs\\python\\python39\\lib\\site-packages (from smote_variants) (0.12.2)\n",
      "Requirement already satisfied: threadpoolctl>=2.0.0 in c:\\users\\dpatel112\\appdata\\local\\programs\\python\\python39\\lib\\site-packages (from scikit-learn->smote_variants) (3.1.0)\n",
      "Requirement already satisfied: intel-openmp==2023.* in c:\\users\\dpatel112\\appdata\\local\\programs\\python\\python39\\lib\\site-packages (from mkl->smote_variants) (2023.1.0)\n",
      "Requirement already satisfied: tbb==2021.* in c:\\users\\dpatel112\\appdata\\local\\programs\\python\\python39\\lib\\site-packages (from mkl->smote_variants) (2021.9.0)\n",
      "Requirement already satisfied: python-dateutil>=2.8.2 in c:\\users\\dpatel112\\appdata\\local\\programs\\python\\python39\\lib\\site-packages (from pandas->smote_variants) (2.8.2)\n",
      "Requirement already satisfied: pytz>=2020.1 in c:\\users\\dpatel112\\appdata\\local\\programs\\python\\python39\\lib\\site-packages (from pandas->smote_variants) (2023.3)\n",
      "Requirement already satisfied: tzdata>=2022.1 in c:\\users\\dpatel112\\appdata\\local\\programs\\python\\python39\\lib\\site-packages (from pandas->smote_variants) (2022.7)\n",
      "Requirement already satisfied: matplotlib!=3.6.1,>=3.1 in c:\\users\\dpatel112\\appdata\\local\\programs\\python\\python39\\lib\\site-packages (from seaborn->smote_variants) (3.7.1)\n",
      "Requirement already satisfied: docutils>=0.3 in c:\\users\\dpatel112\\appdata\\local\\programs\\python\\python39\\lib\\site-packages (from statistics->smote_variants) (0.19)\n",
      "Requirement already satisfied: tensorflow-intel==2.12.0 in c:\\users\\dpatel112\\appdata\\local\\programs\\python\\python39\\lib\\site-packages (from tensorflow->smote_variants) (2.12.0)\n",
      "Requirement already satisfied: absl-py>=1.0.0 in c:\\users\\dpatel112\\appdata\\local\\programs\\python\\python39\\lib\\site-packages (from tensorflow-intel==2.12.0->tensorflow->smote_variants) (1.4.0)\n",
      "Requirement already satisfied: astunparse>=1.6.0 in c:\\users\\dpatel112\\appdata\\local\\programs\\python\\python39\\lib\\site-packages (from tensorflow-intel==2.12.0->tensorflow->smote_variants) (1.6.3)\n",
      "Requirement already satisfied: flatbuffers>=2.0 in c:\\users\\dpatel112\\appdata\\local\\programs\\python\\python39\\lib\\site-packages (from tensorflow-intel==2.12.0->tensorflow->smote_variants) (23.3.3)\n",
      "Requirement already satisfied: gast<=0.4.0,>=0.2.1 in c:\\users\\dpatel112\\appdata\\local\\programs\\python\\python39\\lib\\site-packages (from tensorflow-intel==2.12.0->tensorflow->smote_variants) (0.4.0)\n",
      "Requirement already satisfied: google-pasta>=0.1.1 in c:\\users\\dpatel112\\appdata\\local\\programs\\python\\python39\\lib\\site-packages (from tensorflow-intel==2.12.0->tensorflow->smote_variants) (0.2.0)\n",
      "Requirement already satisfied: h5py>=2.9.0 in c:\\users\\dpatel112\\appdata\\local\\programs\\python\\python39\\lib\\site-packages (from tensorflow-intel==2.12.0->tensorflow->smote_variants) (3.8.0)\n",
      "Requirement already satisfied: jax>=0.3.15 in c:\\users\\dpatel112\\appdata\\local\\programs\\python\\python39\\lib\\site-packages (from tensorflow-intel==2.12.0->tensorflow->smote_variants) (0.4.8)\n",
      "Requirement already satisfied: libclang>=13.0.0 in c:\\users\\dpatel112\\appdata\\local\\programs\\python\\python39\\lib\\site-packages (from tensorflow-intel==2.12.0->tensorflow->smote_variants) (16.0.0)\n",
      "Requirement already satisfied: opt-einsum>=2.3.2 in c:\\users\\dpatel112\\appdata\\local\\programs\\python\\python39\\lib\\site-packages (from tensorflow-intel==2.12.0->tensorflow->smote_variants) (3.3.0)\n",
      "Requirement already satisfied: packaging in c:\\users\\dpatel112\\appdata\\local\\programs\\python\\python39\\lib\\site-packages (from tensorflow-intel==2.12.0->tensorflow->smote_variants) (23.1)\n",
      "Requirement already satisfied: protobuf!=4.21.0,!=4.21.1,!=4.21.2,!=4.21.3,!=4.21.4,!=4.21.5,<5.0.0dev,>=3.20.3 in c:\\users\\dpatel112\\appdata\\local\\programs\\python\\python39\\lib\\site-packages (from tensorflow-intel==2.12.0->tensorflow->smote_variants) (3.20.3)\n",
      "Requirement already satisfied: setuptools in c:\\users\\dpatel112\\appdata\\local\\programs\\python\\python39\\lib\\site-packages (from tensorflow-intel==2.12.0->tensorflow->smote_variants) (58.1.0)\n",
      "Requirement already satisfied: six>=1.12.0 in c:\\users\\dpatel112\\appdata\\local\\programs\\python\\python39\\lib\\site-packages (from tensorflow-intel==2.12.0->tensorflow->smote_variants) (1.16.0)\n",
      "Requirement already satisfied: termcolor>=1.1.0 in c:\\users\\dpatel112\\appdata\\local\\programs\\python\\python39\\lib\\site-packages (from tensorflow-intel==2.12.0->tensorflow->smote_variants) (2.3.0)\n",
      "Requirement already satisfied: typing-extensions>=3.6.6 in c:\\users\\dpatel112\\appdata\\local\\programs\\python\\python39\\lib\\site-packages (from tensorflow-intel==2.12.0->tensorflow->smote_variants) (4.5.0)\n",
      "Requirement already satisfied: wrapt<1.15,>=1.11.0 in c:\\users\\dpatel112\\appdata\\local\\programs\\python\\python39\\lib\\site-packages (from tensorflow-intel==2.12.0->tensorflow->smote_variants) (1.14.1)\n",
      "Requirement already satisfied: grpcio<2.0,>=1.24.3 in c:\\users\\dpatel112\\appdata\\local\\programs\\python\\python39\\lib\\site-packages (from tensorflow-intel==2.12.0->tensorflow->smote_variants) (1.54.0)\n",
      "Requirement already satisfied: tensorboard<2.13,>=2.12 in c:\\users\\dpatel112\\appdata\\local\\programs\\python\\python39\\lib\\site-packages (from tensorflow-intel==2.12.0->tensorflow->smote_variants) (2.12.2)\n",
      "Requirement already satisfied: tensorflow-estimator<2.13,>=2.12.0 in c:\\users\\dpatel112\\appdata\\local\\programs\\python\\python39\\lib\\site-packages (from tensorflow-intel==2.12.0->tensorflow->smote_variants) (2.12.0)\n",
      "Requirement already satisfied: tensorflow-io-gcs-filesystem>=0.23.1 in c:\\users\\dpatel112\\appdata\\local\\programs\\python\\python39\\lib\\site-packages (from tensorflow-intel==2.12.0->tensorflow->smote_variants) (0.31.0)\n",
      "Requirement already satisfied: contourpy>=1.0.1 in c:\\users\\dpatel112\\appdata\\local\\programs\\python\\python39\\lib\\site-packages (from matplotlib!=3.6.1,>=3.1->seaborn->smote_variants) (1.0.7)\n",
      "Requirement already satisfied: cycler>=0.10 in c:\\users\\dpatel112\\appdata\\local\\programs\\python\\python39\\lib\\site-packages (from matplotlib!=3.6.1,>=3.1->seaborn->smote_variants) (0.11.0)\n",
      "Requirement already satisfied: fonttools>=4.22.0 in c:\\users\\dpatel112\\appdata\\local\\programs\\python\\python39\\lib\\site-packages (from matplotlib!=3.6.1,>=3.1->seaborn->smote_variants) (4.39.3)\n",
      "Requirement already satisfied: kiwisolver>=1.0.1 in c:\\users\\dpatel112\\appdata\\local\\programs\\python\\python39\\lib\\site-packages (from matplotlib!=3.6.1,>=3.1->seaborn->smote_variants) (1.4.4)\n",
      "Requirement already satisfied: pillow>=6.2.0 in c:\\users\\dpatel112\\appdata\\local\\programs\\python\\python39\\lib\\site-packages (from matplotlib!=3.6.1,>=3.1->seaborn->smote_variants) (9.5.0)\n",
      "Requirement already satisfied: pyparsing>=2.3.1 in c:\\users\\dpatel112\\appdata\\local\\programs\\python\\python39\\lib\\site-packages (from matplotlib!=3.6.1,>=3.1->seaborn->smote_variants) (3.0.9)\n",
      "Requirement already satisfied: importlib-resources>=3.2.0 in c:\\users\\dpatel112\\appdata\\local\\programs\\python\\python39\\lib\\site-packages (from matplotlib!=3.6.1,>=3.1->seaborn->smote_variants) (5.12.0)\n",
      "Requirement already satisfied: wheel<1.0,>=0.23.0 in c:\\users\\dpatel112\\appdata\\local\\programs\\python\\python39\\lib\\site-packages (from astunparse>=1.6.0->tensorflow-intel==2.12.0->tensorflow->smote_variants) (0.40.0)\n",
      "Requirement already satisfied: zipp>=3.1.0 in c:\\users\\dpatel112\\appdata\\local\\programs\\python\\python39\\lib\\site-packages (from importlib-resources>=3.2.0->matplotlib!=3.6.1,>=3.1->seaborn->smote_variants) (3.15.0)\n",
      "Requirement already satisfied: ml-dtypes>=0.0.3 in c:\\users\\dpatel112\\appdata\\local\\programs\\python\\python39\\lib\\site-packages (from jax>=0.3.15->tensorflow-intel==2.12.0->tensorflow->smote_variants) (0.1.0)\n",
      "Requirement already satisfied: google-auth<3,>=1.6.3 in c:\\users\\dpatel112\\appdata\\local\\programs\\python\\python39\\lib\\site-packages (from tensorboard<2.13,>=2.12->tensorflow-intel==2.12.0->tensorflow->smote_variants) (2.17.3)\n",
      "Requirement already satisfied: google-auth-oauthlib<1.1,>=0.5 in c:\\users\\dpatel112\\appdata\\local\\programs\\python\\python39\\lib\\site-packages (from tensorboard<2.13,>=2.12->tensorflow-intel==2.12.0->tensorflow->smote_variants) (1.0.0)\n",
      "Requirement already satisfied: markdown>=2.6.8 in c:\\users\\dpatel112\\appdata\\local\\programs\\python\\python39\\lib\\site-packages (from tensorboard<2.13,>=2.12->tensorflow-intel==2.12.0->tensorflow->smote_variants) (3.4.3)\n",
      "Requirement already satisfied: requests<3,>=2.21.0 in c:\\users\\dpatel112\\appdata\\local\\programs\\python\\python39\\lib\\site-packages (from tensorboard<2.13,>=2.12->tensorflow-intel==2.12.0->tensorflow->smote_variants) (2.29.0)\n",
      "Requirement already satisfied: tensorboard-data-server<0.8.0,>=0.7.0 in c:\\users\\dpatel112\\appdata\\local\\programs\\python\\python39\\lib\\site-packages (from tensorboard<2.13,>=2.12->tensorflow-intel==2.12.0->tensorflow->smote_variants) (0.7.0)\n",
      "Requirement already satisfied: tensorboard-plugin-wit>=1.6.0 in c:\\users\\dpatel112\\appdata\\local\\programs\\python\\python39\\lib\\site-packages (from tensorboard<2.13,>=2.12->tensorflow-intel==2.12.0->tensorflow->smote_variants) (1.8.1)\n",
      "Requirement already satisfied: werkzeug>=1.0.1 in c:\\users\\dpatel112\\appdata\\local\\programs\\python\\python39\\lib\\site-packages (from tensorboard<2.13,>=2.12->tensorflow-intel==2.12.0->tensorflow->smote_variants) (2.3.1)\n",
      "Requirement already satisfied: cachetools<6.0,>=2.0.0 in c:\\users\\dpatel112\\appdata\\local\\programs\\python\\python39\\lib\\site-packages (from google-auth<3,>=1.6.3->tensorboard<2.13,>=2.12->tensorflow-intel==2.12.0->tensorflow->smote_variants) (5.3.0)\n",
      "Requirement already satisfied: pyasn1-modules>=0.2.1 in c:\\users\\dpatel112\\appdata\\local\\programs\\python\\python39\\lib\\site-packages (from google-auth<3,>=1.6.3->tensorboard<2.13,>=2.12->tensorflow-intel==2.12.0->tensorflow->smote_variants) (0.3.0)\n",
      "Requirement already satisfied: rsa<5,>=3.1.4 in c:\\users\\dpatel112\\appdata\\local\\programs\\python\\python39\\lib\\site-packages (from google-auth<3,>=1.6.3->tensorboard<2.13,>=2.12->tensorflow-intel==2.12.0->tensorflow->smote_variants) (4.9)\n",
      "Requirement already satisfied: requests-oauthlib>=0.7.0 in c:\\users\\dpatel112\\appdata\\local\\programs\\python\\python39\\lib\\site-packages (from google-auth-oauthlib<1.1,>=0.5->tensorboard<2.13,>=2.12->tensorflow-intel==2.12.0->tensorflow->smote_variants) (1.3.1)\n",
      "Requirement already satisfied: importlib-metadata>=4.4 in c:\\users\\dpatel112\\appdata\\local\\programs\\python\\python39\\lib\\site-packages (from markdown>=2.6.8->tensorboard<2.13,>=2.12->tensorflow-intel==2.12.0->tensorflow->smote_variants) (6.6.0)\n",
      "Requirement already satisfied: charset-normalizer<4,>=2 in c:\\users\\dpatel112\\appdata\\local\\programs\\python\\python39\\lib\\site-packages (from requests<3,>=2.21.0->tensorboard<2.13,>=2.12->tensorflow-intel==2.12.0->tensorflow->smote_variants) (3.1.0)\n",
      "Requirement already satisfied: idna<4,>=2.5 in c:\\users\\dpatel112\\appdata\\local\\programs\\python\\python39\\lib\\site-packages (from requests<3,>=2.21.0->tensorboard<2.13,>=2.12->tensorflow-intel==2.12.0->tensorflow->smote_variants) (3.4)\n",
      "Requirement already satisfied: urllib3<1.27,>=1.21.1 in c:\\users\\dpatel112\\appdata\\local\\programs\\python\\python39\\lib\\site-packages (from requests<3,>=2.21.0->tensorboard<2.13,>=2.12->tensorflow-intel==2.12.0->tensorflow->smote_variants) (1.26.15)\n",
      "Requirement already satisfied: certifi>=2017.4.17 in c:\\users\\dpatel112\\appdata\\local\\programs\\python\\python39\\lib\\site-packages (from requests<3,>=2.21.0->tensorboard<2.13,>=2.12->tensorflow-intel==2.12.0->tensorflow->smote_variants) (2022.12.7)\n",
      "Requirement already satisfied: MarkupSafe>=2.1.1 in c:\\users\\dpatel112\\appdata\\local\\programs\\python\\python39\\lib\\site-packages (from werkzeug>=1.0.1->tensorboard<2.13,>=2.12->tensorflow-intel==2.12.0->tensorflow->smote_variants) (2.1.2)\n",
      "Requirement already satisfied: pyasn1<0.6.0,>=0.4.6 in c:\\users\\dpatel112\\appdata\\local\\programs\\python\\python39\\lib\\site-packages (from pyasn1-modules>=0.2.1->google-auth<3,>=1.6.3->tensorboard<2.13,>=2.12->tensorflow-intel==2.12.0->tensorflow->smote_variants) (0.5.0)\n",
      "Requirement already satisfied: oauthlib>=3.0.0 in c:\\users\\dpatel112\\appdata\\local\\programs\\python\\python39\\lib\\site-packages (from requests-oauthlib>=0.7.0->google-auth-oauthlib<1.1,>=0.5->tensorboard<2.13,>=2.12->tensorflow-intel==2.12.0->tensorflow->smote_variants) (3.2.2)\n",
      "Note: you may need to restart the kernel to use updated packages.\n"
     ]
    }
   ],
   "source": [
    "import ips as ips\n",
    "\n",
    "pip install smote_variants"
   ]
  },
  {
   "cell_type": "code",
   "execution_count": 9,
   "outputs": [
    {
     "name": "stdout",
     "output_type": "stream",
     "text": [
      "Collecting imbalanced_databases\n",
      "  Using cached imbalanced_databases-0.1.1-py3-none-any.whl (4.3 MB)\n",
      "Requirement already satisfied: numpy in c:\\users\\dpatel112\\appdata\\local\\programs\\python\\python39\\lib\\site-packages (from imbalanced_databases) (1.23.5)\n",
      "Requirement already satisfied: pandas in c:\\users\\dpatel112\\appdata\\local\\programs\\python\\python39\\lib\\site-packages (from imbalanced_databases) (2.0.1)\n",
      "Requirement already satisfied: scipy in c:\\users\\dpatel112\\appdata\\local\\programs\\python\\python39\\lib\\site-packages (from imbalanced_databases) (1.10.1)\n",
      "Collecting sklearn (from imbalanced_databases)\n",
      "  Using cached sklearn-0.0.post4.tar.gz (3.6 kB)\n",
      "  Preparing metadata (setup.py): started\n",
      "  Preparing metadata (setup.py): finished with status 'error'\n",
      "Note: you may need to restart the kernel to use updated packages.\n"
     ]
    },
    {
     "name": "stderr",
     "output_type": "stream",
     "text": [
      "  error: subprocess-exited-with-error\n",
      "  \n",
      "  python setup.py egg_info did not run successfully.\n",
      "  exit code: 1\n",
      "  \n",
      "  [8 lines of output]\n",
      "  Traceback (most recent call last):\n",
      "    File \"<string>\", line 2, in <module>\n",
      "    File \"<pip-setuptools-caller>\", line 34, in <module>\n",
      "    File \"C:\\Users\\dpatel112\\AppData\\Local\\Temp\\pip-install-mh61pr_y\\sklearn_79579b8078aa4b9e9aba4437870ead1a\\setup.py\", line 10, in <module>\n",
      "      LONG_DESCRIPTION = f.read()\n",
      "    File \"C:\\Users\\dpatel112\\AppData\\Local\\Programs\\Python\\Python39\\lib\\encodings\\cp1252.py\", line 23, in decode\n",
      "      return codecs.charmap_decode(input,self.errors,decoding_table)[0]\n",
      "  UnicodeDecodeError: 'charmap' codec can't decode byte 0x8f in position 7: character maps to <undefined>\n",
      "  [end of output]\n",
      "  \n",
      "  note: This error originates from a subprocess, and is likely not a problem with pip.\n",
      "error: metadata-generation-failed\n",
      "\n",
      "Encountered error while generating package metadata.\n",
      "\n",
      "See above for output.\n",
      "\n",
      "note: This is an issue with the package mentioned above, not pip.\n",
      "hint: See above for details.\n"
     ]
    }
   ],
   "source": [
    "pip install imbalanced_databases"
   ],
   "metadata": {
    "collapsed": false,
    "ExecuteTime": {
     "start_time": "2023-04-27T17:40:45.117437Z",
     "end_time": "2023-04-27T17:40:48.616324Z"
    }
   }
  },
  {
   "cell_type": "code",
   "execution_count": 10,
   "outputs": [
    {
     "name": "stdout",
     "output_type": "stream",
     "text": [
      "Requirement already satisfied: imbalanced-learn in c:\\users\\dpatel112\\appdata\\local\\programs\\python\\python39\\lib\\site-packages (0.10.1)Note: you may need to restart the kernel to use updated packages.\n",
      "\n",
      "Requirement already satisfied: numpy>=1.17.3 in c:\\users\\dpatel112\\appdata\\local\\programs\\python\\python39\\lib\\site-packages (from imbalanced-learn) (1.23.5)\n",
      "Requirement already satisfied: scipy>=1.3.2 in c:\\users\\dpatel112\\appdata\\local\\programs\\python\\python39\\lib\\site-packages (from imbalanced-learn) (1.10.1)\n",
      "Requirement already satisfied: scikit-learn>=1.0.2 in c:\\users\\dpatel112\\appdata\\local\\programs\\python\\python39\\lib\\site-packages (from imbalanced-learn) (1.2.2)\n",
      "Requirement already satisfied: joblib>=1.1.1 in c:\\users\\dpatel112\\appdata\\local\\programs\\python\\python39\\lib\\site-packages (from imbalanced-learn) (1.2.0)\n",
      "Requirement already satisfied: threadpoolctl>=2.0.0 in c:\\users\\dpatel112\\appdata\\local\\programs\\python\\python39\\lib\\site-packages (from imbalanced-learn) (3.1.0)\n"
     ]
    }
   ],
   "source": [
    "pip install imbalanced-learn"
   ],
   "metadata": {
    "collapsed": false,
    "ExecuteTime": {
     "start_time": "2023-04-27T17:41:21.286371Z",
     "end_time": "2023-04-27T17:41:25.433425Z"
    }
   }
  },
  {
   "cell_type": "code",
   "execution_count": 5,
   "outputs": [
    {
     "ename": "ModuleNotFoundError",
     "evalue": "No module named 'imbalanced_databases'",
     "output_type": "error",
     "traceback": [
      "\u001B[1;31m---------------------------------------------------------------------------\u001B[0m",
      "\u001B[1;31mModuleNotFoundError\u001B[0m                       Traceback (most recent call last)",
      "Cell \u001B[1;32mIn[5], line 5\u001B[0m\n\u001B[0;32m      3\u001B[0m \u001B[38;5;28;01mimport\u001B[39;00m \u001B[38;5;21;01mmatplotlib\u001B[39;00m\u001B[38;5;21;01m.\u001B[39;00m\u001B[38;5;21;01mpyplot\u001B[39;00m \u001B[38;5;28;01mas\u001B[39;00m \u001B[38;5;21;01mplt\u001B[39;00m\n\u001B[0;32m      4\u001B[0m \u001B[38;5;28;01mimport\u001B[39;00m \u001B[38;5;21;01mnumpy\u001B[39;00m \u001B[38;5;28;01mas\u001B[39;00m \u001B[38;5;21;01mnp\u001B[39;00m\n\u001B[1;32m----> 5\u001B[0m \u001B[38;5;28;01mimport\u001B[39;00m \u001B[38;5;21;01mimbalanced_databases\u001B[39;00m \u001B[38;5;28;01mas\u001B[39;00m \u001B[38;5;21;01mimbd\u001B[39;00m\n\u001B[0;32m      6\u001B[0m \u001B[38;5;28;01mfrom\u001B[39;00m \u001B[38;5;21;01msklearn\u001B[39;00m \u001B[38;5;28;01mimport\u001B[39;00m metrics\n\u001B[0;32m      7\u001B[0m \u001B[38;5;28;01mfrom\u001B[39;00m \u001B[38;5;21;01msklearn\u001B[39;00m\u001B[38;5;21;01m.\u001B[39;00m\u001B[38;5;21;01mdatasets\u001B[39;00m \u001B[38;5;28;01mimport\u001B[39;00m load_wine\n",
      "\u001B[1;31mModuleNotFoundError\u001B[0m: No module named 'imbalanced_databases'"
     ]
    }
   ],
   "source": [
    "import smote_variants as sv\n",
    "import pandas  as pd\n",
    "import matplotlib.pyplot as plt\n",
    "import numpy as np\n",
    "import imbalanced_databases as imbd\n",
    "from sklearn import metrics\n",
    "from sklearn.datasets import load_wine\n",
    "from sklearn.metrics import roc_curve, auc, roc_auc_score\n",
    "from sklearn.metrics import confusion_matrix\n",
    "from sklearn import metrics\n",
    "from sklearn.metrics import plot_roc_curve\n",
    "from imblearn.over_sampling import SMOTE\n",
    "\n",
    "%matplotlib inline\n",
    "from sklearn.model_selection import train_test_split"
   ],
   "metadata": {
    "collapsed": false
   }
  },
  {
   "cell_type": "code",
   "execution_count": 134,
   "outputs": [],
   "source": [
    "df_train = pd.read_csv('https://raw.githubusercontent.com/DDOS-Attacks-detection-in-IOT-using-ML/DDOS-Detection/main/DDoSdata.csv')\n",
    "df = df_train.copy()\n",
    "df.drop(['Unnamed: 0'],inplace=True,axis=1)"
   ],
   "metadata": {
    "collapsed": false,
    "ExecuteTime": {
     "start_time": "2023-04-28T14:57:36.164661Z",
     "end_time": "2023-04-28T14:57:36.370657Z"
    }
   }
  },
  {
   "cell_type": "code",
   "execution_count": 135,
   "outputs": [],
   "source": [
    "X = df.iloc[:, df.columns != 'attack']\n",
    "y = df.iloc[:, df.columns == 'attack']\n",
    "# X = df.iloc[:, df['attack'] == '1']\n",
    "# y = df.iloc[:, df.columns == 'attack']\n",
    "\n",
    "# X, y = SMOTE().fit_sample(X, y)"
   ],
   "metadata": {
    "collapsed": false,
    "ExecuteTime": {
     "start_time": "2023-04-28T14:57:37.214588Z",
     "end_time": "2023-04-28T14:57:37.242668Z"
    }
   }
  },
  {
   "cell_type": "code",
   "execution_count": 145,
   "outputs": [
    {
     "name": "stdout",
     "output_type": "stream",
     "text": [
      "[0 0 0 1 0 0 0 0 0 0 0 0 0 0 0 0 0 0 0 0]\n",
      "Accuracy of Logistic Regression: 0.75\n"
     ]
    }
   ],
   "source": [
    "# LogisticRegression\n",
    "\n",
    "import pandas as pd\n",
    "from sklearn.linear_model import LogisticRegression\n",
    "from sklearn.model_selection import train_test_split\n",
    "from sklearn.metrics import accuracy_score\n",
    "\n",
    "df = pd.read_csv('https://raw.githubusercontent.com/DDOS-Attacks-detection-in-IOT-using-ML/DDOS-Detection/main/DDoSdata.csv')\n",
    "\n",
    "# df = pd.read_csv('C:/Users/dpatel112/OneDrive - Cal State LA/Spring 2023/CS5470 Computer Network/Project/Filtered Dataset/DDoSdata.csv')\n",
    "\n",
    "X = df['pkts'].values.reshape(-1, 1)\n",
    "y = df['attack']\n",
    "\n",
    "X_train, X_test, y_train, y_test = train_test_split(X, y, test_size=0.2, random_state=42)\n",
    "\n",
    "lr = LogisticRegression()\n",
    "lr.fit(X_train, y_train)\n",
    "y_pred = lr.predict(X_test)\n",
    "accuracy = accuracy_score(y_test, y_pred)\n",
    "print(y_pred)\n",
    "print(\"Accuracy of Logistic Regression:\", accuracy)\n",
    "\n",
    "# plt.scatter(X,y)\n",
    "# plt.xlabel('Packets')\n",
    "# plt.ylabel('Source IP Address')\n",
    "# plt.\n",
    "\n",
    "# plt.title('LogisticRegression')\n",
    "# plt.show()\n",
    "\n"
   ],
   "metadata": {
    "collapsed": false,
    "ExecuteTime": {
     "start_time": "2023-04-28T15:17:24.844873Z",
     "end_time": "2023-04-28T15:17:25.044284Z"
    }
   }
  },
  {
   "cell_type": "code",
   "execution_count": 181,
   "outputs": [
    {
     "name": "stdout",
     "output_type": "stream",
     "text": [
      "(96, 2)\n",
      "(96,)\n",
      "[0 0 0 1 0 0 0 0 0 0 0 0 0 0 0 0 0 0 0 0]\n",
      "Accuracy of Logistic Regression: 0.75\n"
     ]
    }
   ],
   "source": [
    "# LogisticRegression\n",
    "\n",
    "import pandas as pd\n",
    "from sklearn.linear_model import LogisticRegression\n",
    "from sklearn.model_selection import train_test_split\n",
    "from sklearn.metrics import accuracy_score\n",
    "\n",
    "df = pd.read_csv('https://raw.githubusercontent.com/DDOS-Attacks-detection-in-IOT-using-ML/DDOS-Detection/main/DDoSdata.csv')\n",
    "\n",
    "# df = pd.read_csv('C:/Users/dpatel112/OneDrive - Cal State LA/Spring 2023/CS5470 Computer Network/Project/Filtered Dataset/DDoSdata.csv')\n",
    "\n",
    "X = df[['pkts','bytes']]\n",
    "print(X.shape)\n",
    "y = df['attack']\n",
    "print(y.shape)\n",
    "# array = [5,4,8,9]\n",
    "# X = np.array.reshape(-1,1)\n",
    "# y = [0,0,1,1]\n",
    "\n",
    "X_train, X_test, y_train, y_test = train_test_split(X, y, test_size=0.2, random_state=42)\n",
    "\n",
    "# print(X_train.shape,X_test.shape,)\n",
    "\n",
    "lr = LogisticRegression()\n",
    "lr.fit(X_train, y_train)\n",
    "y_pred = lr.predict(X_test)\n",
    "accuracy = accuracy_score(y_test, y_pred)\n",
    "print(y_pred)\n",
    "print(\"Accuracy of Logistic Regression:\", accuracy)\n",
    "\n",
    "\n",
    "# plt.scatter(X,y)\n",
    "# plt.xlabel('Packets')\n",
    "# plt.ylabel('Source IP Address')\n",
    "# plt.\n",
    "\n",
    "# plt.title('LogisticRegression')\n",
    "# plt.show()\n",
    "\n"
   ],
   "metadata": {
    "collapsed": false,
    "ExecuteTime": {
     "start_time": "2023-04-28T15:58:57.722634Z",
     "end_time": "2023-04-28T15:58:57.778046Z"
    }
   }
  },
  {
   "cell_type": "code",
   "execution_count": 169,
   "outputs": [
    {
     "data": {
      "text/plain": "(96,)"
     },
     "execution_count": 169,
     "metadata": {},
     "output_type": "execute_result"
    }
   ],
   "source": [
    "df['pkts'].shape\n",
    "# df['subcategory'].shape"
   ],
   "metadata": {
    "collapsed": false,
    "ExecuteTime": {
     "start_time": "2023-04-28T15:44:15.706986Z",
     "end_time": "2023-04-28T15:44:15.722990Z"
    }
   }
  },
  {
   "cell_type": "code",
   "execution_count": 209,
   "outputs": [
    {
     "name": "stdout",
     "output_type": "stream",
     "text": [
      "    pkts  bytes\n",
      "7     13   1907\n",
      "72    10    976\n",
      "50     2    308\n",
      "45     4    428\n",
      "0     10   1729\n",
      "..   ...    ...\n",
      "14    15   3288\n",
      "34    12   2814\n",
      "64     2    120\n",
      "15    18   5460\n",
      "85     8    856\n",
      "\n",
      "[76 rows x 2 columns]\n",
      "    pkts  bytes\n",
      "58     5    394\n",
      "38     6    548\n",
      "60     3    274\n",
      "23    11   1755\n",
      "56     1    154\n",
      "4     11   1882\n",
      "76    14   1404\n",
      "35    17   4540\n",
      "71     8    856\n",
      "27    20   5598\n",
      "52     5    488\n",
      "2     10   1488\n",
      "81     9    916\n",
      "6     11   1643\n",
      "95    21   1470\n",
      "47     4    428\n",
      "48     6    548\n",
      "5     13   3032\n",
      "70     9   1010\n",
      "83     7    796\n",
      "    pkts  bytes  attack\n",
      "58     5    394       0\n",
      "38     6    548       0\n",
      "60     3    274       0\n",
      "23    11   1755       0\n",
      "56     1    154       0\n",
      "4     11   1882       0\n",
      "76    14   1404       0\n",
      "35    17   4540       1\n",
      "71     8    856       0\n",
      "27    20   5598       0\n",
      "52     5    488       0\n",
      "2     10   1488       0\n",
      "81     9    916       0\n",
      "6     11   1643       0\n",
      "95    21   1470       0\n",
      "47     4    428       0\n",
      "48     6    548       0\n",
      "5     13   3032       0\n",
      "70     9   1010       0\n",
      "83     7    796       0\n",
      "Accuracy of KNN Classifier 0.9\n",
      "    pkts  bytes  attack\n",
      "35    17   4540       1\n"
     ]
    },
    {
     "ename": "KeyError",
     "evalue": "'saddr'",
     "output_type": "error",
     "traceback": [
      "\u001B[1;31m---------------------------------------------------------------------------\u001B[0m",
      "\u001B[1;31mKeyError\u001B[0m                                  Traceback (most recent call last)",
      "File \u001B[1;32m~\\AppData\\Local\\Programs\\Python\\Python39\\lib\\site-packages\\pandas\\core\\indexes\\base.py:3652\u001B[0m, in \u001B[0;36mIndex.get_loc\u001B[1;34m(self, key)\u001B[0m\n\u001B[0;32m   3651\u001B[0m \u001B[38;5;28;01mtry\u001B[39;00m:\n\u001B[1;32m-> 3652\u001B[0m     \u001B[38;5;28;01mreturn\u001B[39;00m \u001B[38;5;28;43mself\u001B[39;49m\u001B[38;5;241;43m.\u001B[39;49m\u001B[43m_engine\u001B[49m\u001B[38;5;241;43m.\u001B[39;49m\u001B[43mget_loc\u001B[49m\u001B[43m(\u001B[49m\u001B[43mcasted_key\u001B[49m\u001B[43m)\u001B[49m\n\u001B[0;32m   3653\u001B[0m \u001B[38;5;28;01mexcept\u001B[39;00m \u001B[38;5;167;01mKeyError\u001B[39;00m \u001B[38;5;28;01mas\u001B[39;00m err:\n",
      "File \u001B[1;32m~\\AppData\\Local\\Programs\\Python\\Python39\\lib\\site-packages\\pandas\\_libs\\index.pyx:147\u001B[0m, in \u001B[0;36mpandas._libs.index.IndexEngine.get_loc\u001B[1;34m()\u001B[0m\n",
      "File \u001B[1;32m~\\AppData\\Local\\Programs\\Python\\Python39\\lib\\site-packages\\pandas\\_libs\\index.pyx:176\u001B[0m, in \u001B[0;36mpandas._libs.index.IndexEngine.get_loc\u001B[1;34m()\u001B[0m\n",
      "File \u001B[1;32mpandas\\_libs\\hashtable_class_helper.pxi:7080\u001B[0m, in \u001B[0;36mpandas._libs.hashtable.PyObjectHashTable.get_item\u001B[1;34m()\u001B[0m\n",
      "File \u001B[1;32mpandas\\_libs\\hashtable_class_helper.pxi:7088\u001B[0m, in \u001B[0;36mpandas._libs.hashtable.PyObjectHashTable.get_item\u001B[1;34m()\u001B[0m\n",
      "\u001B[1;31mKeyError\u001B[0m: 'saddr'",
      "\nThe above exception was the direct cause of the following exception:\n",
      "\u001B[1;31mKeyError\u001B[0m                                  Traceback (most recent call last)",
      "Cell \u001B[1;32mIn[209], line 43\u001B[0m\n\u001B[0;32m     41\u001B[0m row\u001B[38;5;241m=\u001B[39mx_test[x_test[\u001B[38;5;124m'\u001B[39m\u001B[38;5;124mattack\u001B[39m\u001B[38;5;124m'\u001B[39m]\u001B[38;5;241m==\u001B[39m\u001B[38;5;241m1\u001B[39m]\n\u001B[0;32m     42\u001B[0m \u001B[38;5;28mprint\u001B[39m(row)\n\u001B[1;32m---> 43\u001B[0m \u001B[38;5;28mprint\u001B[39m(\u001B[43mrow\u001B[49m\u001B[43m[\u001B[49m\u001B[38;5;124;43m'\u001B[39;49m\u001B[38;5;124;43msaddr\u001B[39;49m\u001B[38;5;124;43m'\u001B[39;49m\u001B[43m]\u001B[49m)\n\u001B[0;32m     44\u001B[0m \u001B[38;5;66;03m# l1=[]\u001B[39;00m\n\u001B[0;32m     45\u001B[0m \u001B[38;5;66;03m# for i in q_predict:\u001B[39;00m\n\u001B[0;32m     46\u001B[0m \u001B[38;5;66;03m#     if(i == 1):\u001B[39;00m\n\u001B[0;32m     47\u001B[0m \u001B[38;5;66;03m#         l1.append(i)\u001B[39;00m\n\u001B[0;32m     50\u001B[0m plt\u001B[38;5;241m.\u001B[39mscatter(p,q)\n",
      "File \u001B[1;32m~\\AppData\\Local\\Programs\\Python\\Python39\\lib\\site-packages\\pandas\\core\\frame.py:3761\u001B[0m, in \u001B[0;36mDataFrame.__getitem__\u001B[1;34m(self, key)\u001B[0m\n\u001B[0;32m   3759\u001B[0m \u001B[38;5;28;01mif\u001B[39;00m \u001B[38;5;28mself\u001B[39m\u001B[38;5;241m.\u001B[39mcolumns\u001B[38;5;241m.\u001B[39mnlevels \u001B[38;5;241m>\u001B[39m \u001B[38;5;241m1\u001B[39m:\n\u001B[0;32m   3760\u001B[0m     \u001B[38;5;28;01mreturn\u001B[39;00m \u001B[38;5;28mself\u001B[39m\u001B[38;5;241m.\u001B[39m_getitem_multilevel(key)\n\u001B[1;32m-> 3761\u001B[0m indexer \u001B[38;5;241m=\u001B[39m \u001B[38;5;28;43mself\u001B[39;49m\u001B[38;5;241;43m.\u001B[39;49m\u001B[43mcolumns\u001B[49m\u001B[38;5;241;43m.\u001B[39;49m\u001B[43mget_loc\u001B[49m\u001B[43m(\u001B[49m\u001B[43mkey\u001B[49m\u001B[43m)\u001B[49m\n\u001B[0;32m   3762\u001B[0m \u001B[38;5;28;01mif\u001B[39;00m is_integer(indexer):\n\u001B[0;32m   3763\u001B[0m     indexer \u001B[38;5;241m=\u001B[39m [indexer]\n",
      "File \u001B[1;32m~\\AppData\\Local\\Programs\\Python\\Python39\\lib\\site-packages\\pandas\\core\\indexes\\base.py:3654\u001B[0m, in \u001B[0;36mIndex.get_loc\u001B[1;34m(self, key)\u001B[0m\n\u001B[0;32m   3652\u001B[0m     \u001B[38;5;28;01mreturn\u001B[39;00m \u001B[38;5;28mself\u001B[39m\u001B[38;5;241m.\u001B[39m_engine\u001B[38;5;241m.\u001B[39mget_loc(casted_key)\n\u001B[0;32m   3653\u001B[0m \u001B[38;5;28;01mexcept\u001B[39;00m \u001B[38;5;167;01mKeyError\u001B[39;00m \u001B[38;5;28;01mas\u001B[39;00m err:\n\u001B[1;32m-> 3654\u001B[0m     \u001B[38;5;28;01mraise\u001B[39;00m \u001B[38;5;167;01mKeyError\u001B[39;00m(key) \u001B[38;5;28;01mfrom\u001B[39;00m \u001B[38;5;21;01merr\u001B[39;00m\n\u001B[0;32m   3655\u001B[0m \u001B[38;5;28;01mexcept\u001B[39;00m \u001B[38;5;167;01mTypeError\u001B[39;00m:\n\u001B[0;32m   3656\u001B[0m     \u001B[38;5;66;03m# If we have a listlike key, _check_indexing_error will raise\u001B[39;00m\n\u001B[0;32m   3657\u001B[0m     \u001B[38;5;66;03m#  InvalidIndexError. Otherwise we fall through and re-raise\u001B[39;00m\n\u001B[0;32m   3658\u001B[0m     \u001B[38;5;66;03m#  the TypeError.\u001B[39;00m\n\u001B[0;32m   3659\u001B[0m     \u001B[38;5;28mself\u001B[39m\u001B[38;5;241m.\u001B[39m_check_indexing_error(key)\n",
      "\u001B[1;31mKeyError\u001B[0m: 'saddr'"
     ]
    }
   ],
   "source": [
    "# KNN Classifier\n",
    "\n",
    "from sklearn.neighbors import KNeighborsClassifier\n",
    "from sklearn.model_selection import train_test_split\n",
    "from sklearn.metrics import accuracy_score\n",
    "from sklearn.neighbors import KNeighborsClassifier\n",
    "import matplotlib.pyplot as plt\n",
    "import numpy as np\n",
    "\n",
    "# df['saddr'] = df['saddr'].astype(float)\n",
    "# cols=[float('saddr')]\n",
    "x=df.iloc[:,:-1]\n",
    "# print(x.head)\n",
    "u=df.iloc[:,-1]\n",
    "\n",
    "p = df[['pkts','bytes']]\n",
    "q = df['attack']\n",
    "\n",
    "k = 2\n",
    "knn = KNeighborsClassifier(n_neighbors=k)\n",
    "knn.fit(p, q)\n",
    "x_train, x_test, u_train, u_test = train_test_split(p, q, test_size = 0.2, random_state = 56)\n",
    "p_train, p_test, q_train, q_test = train_test_split(p, q, test_size = 0.2, random_state = 56)\n",
    "# print(p_test)\n",
    "# print(\"Hello Jay\")\n",
    "# print(q_train)\n",
    "# print(q_test)\n",
    "# print(q_test.name)\n",
    "knn.fit(p_train, q_train)\n",
    "q_predict = knn.predict(p_test)\n",
    "print(x_train)\n",
    "print(x_test)\n",
    "x_test['attack']=q_predict\n",
    "print(x_test)\n",
    "\n",
    "# u_predict= knn.predict(x_test)\n",
    "#q_predict = q_predict.reshape(p_train.shape)\n",
    "accuracy = accuracy_score(q_test, q_predict)\n",
    "print('Accuracy of KNN Classifier',accuracy)\n",
    "# print(q_predict)\n",
    "row=x_test[x_test['attack']==1]\n",
    "print(row)\n",
    "print(row['saddr'])\n",
    "# l1=[]\n",
    "# for i in q_predict:\n",
    "#     if(i == 1):\n",
    "#         l1.append(i)\n",
    "\n",
    "\n",
    "plt.scatter(p,q)\n",
    "plt.xlabel('Packets')\n",
    "plt.ylabel('Source IP Address')\n",
    "\n",
    "plt.title('KNN Classifier')\n",
    "plt.show()"
   ],
   "metadata": {
    "collapsed": false,
    "ExecuteTime": {
     "start_time": "2023-04-28T15:10:02.887446Z",
     "end_time": "2023-04-28T15:10:03.024938Z"
    }
   }
  },
  {
   "cell_type": "code",
   "execution_count": 184,
   "outputs": [
    {
     "name": "stdout",
     "output_type": "stream",
     "text": [
      "['192.168.100.3' '192.168.100.3' '192.168.100.147' '192.168.100.3'\n",
      " '192.168.100.147' '192.168.100.147' '192.168.100.3' '192.168.100.3'\n",
      " '192.168.100.3' '192.168.100.148']\n",
      "Accuracy of Decision Tree Classifier: 0.3\n"
     ]
    }
   ],
   "source": [
    "# Decision Tree Classifier\n",
    "\n",
    "p = df['pkts'].values.reshape(-1, 1)\n",
    "q = df['saddr']\n",
    "\n",
    "p_train, p_test, q_train, q_test = train_test_split(p, q, test_size = 0.1, random_state = 42)\n",
    "\n",
    "from sklearn.tree import DecisionTreeClassifier\n",
    "classifier = DecisionTreeClassifier()\n",
    "classifier.fit(p_train,q_train)\n",
    "\n",
    "y_pred = classifier.predict(p_test)\n",
    "print(y_pred)\n",
    "# print(y_pred)\n",
    "accuracy = accuracy_score(q_test, y_pred)\n",
    "print(\"Accuracy of Decision Tree Classifier:\", accuracy)"
   ],
   "metadata": {
    "collapsed": false,
    "ExecuteTime": {
     "start_time": "2023-04-28T16:04:32.267217Z",
     "end_time": "2023-04-28T16:04:32.276221Z"
    }
   }
  },
  {
   "cell_type": "code",
   "execution_count": 98,
   "outputs": [],
   "source": [],
   "metadata": {
    "collapsed": false,
    "ExecuteTime": {
     "start_time": "2023-04-28T13:37:58.080821Z",
     "end_time": "2023-04-28T13:37:58.106833Z"
    }
   }
  },
  {
   "cell_type": "code",
   "execution_count": null,
   "outputs": [],
   "source": [],
   "metadata": {
    "collapsed": false
   }
  }
 ],
 "metadata": {
  "kernelspec": {
   "display_name": "Python 3",
   "language": "python",
   "name": "python3"
  },
  "language_info": {
   "codemirror_mode": {
    "name": "ipython",
    "version": 2
   },
   "file_extension": ".py",
   "mimetype": "text/x-python",
   "name": "python",
   "nbconvert_exporter": "python",
   "pygments_lexer": "ipython2",
   "version": "2.7.6"
  }
 },
 "nbformat": 4,
 "nbformat_minor": 0
}
