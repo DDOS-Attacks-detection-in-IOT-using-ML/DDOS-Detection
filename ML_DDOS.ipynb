{
 "cells": [
  {
   "cell_type": "code",
   "execution_count": 214,
   "outputs": [],
   "source": [
    "import pandas  as pd"
   ],
   "metadata": {
    "collapsed": false,
    "ExecuteTime": {
     "start_time": "2023-04-29T11:54:24.077391Z",
     "end_time": "2023-04-29T11:54:24.098393Z"
    }
   }
  },
  {
   "cell_type": "code",
   "execution_count": 215,
   "outputs": [
    {
     "name": "stdout",
     "output_type": "stream",
     "text": [
      "Total Number of rows and columns (96, 47)\n"
     ]
    }
   ],
   "source": [
    "df_train = pd.read_csv('https://raw.githubusercontent.com/DDOS-Attacks-detection-in-IOT-using-ML/DDOS-Detection/main/DDoSdata.csv')\n",
    "df = df_train.copy()\n",
    "df.drop(['Unnamed: 0'],inplace=True,axis=1)\n",
    "print('Total Number of rows and columns',df.shape)"
   ],
   "metadata": {
    "collapsed": false,
    "ExecuteTime": {
     "start_time": "2023-04-29T11:54:24.692241Z",
     "end_time": "2023-04-29T11:54:24.995450Z"
    }
   }
  },
  {
   "cell_type": "code",
   "execution_count": 228,
   "outputs": [
    {
     "name": "stdout",
     "output_type": "stream",
     "text": [
      "[0 0 0 1 0 0 0 0 0 0 0 0 0 0 0 0 0 0 0 0]\n",
      "Accuracy of Logistic Regression: 0.75\n"
     ]
    },
    {
     "data": {
      "text/plain": "<Figure size 640x480 with 1 Axes>",
      "image/png": "[encoded data removed]"
     },
     "metadata": {},
     "output_type": "display_data"
    }
   ],
   "source": [
    "# LogisticRegression\n",
    "\n",
    "import pandas as pd\n",
    "import matplotlib.pyplot as plt\n",
    "from sklearn.linear_model import LogisticRegression\n",
    "from sklearn.model_selection import train_test_split\n",
    "from sklearn.metrics import accuracy_score\n",
    "\n",
    "df = pd.read_csv('https://raw.githubusercontent.com/DDOS-Attacks-detection-in-IOT-using-ML/DDOS-Detection/main/DDoSdata.csv')\n",
    "\n",
    "X = df['pkts'].values.reshape(-1, 1)\n",
    "y = df['attack']\n",
    "\n",
    "X_train, X_test, y_train, y_test = train_test_split(X, y, test_size=0.2, random_state=42)\n",
    "\n",
    "lr = LogisticRegression()\n",
    "lr.fit(X_train, y_train)\n",
    "y_pred = lr.predict(X_test)\n",
    "accuracy = accuracy_score(y_test, y_pred)\n",
    "print(y_pred)\n",
    "print(\"Accuracy of Logistic Regression:\", accuracy)\n",
    "\n",
    "plt.scatter(X,y)\n",
    "plt.xlabel('Packets')\n",
    "plt.ylabel('Source IP Address')\n",
    "\n",
    "plt.title('LogisticRegression')\n",
    "plt.show()\n",
    "\n"
   ],
   "metadata": {
    "collapsed": false,
    "ExecuteTime": {
     "start_time": "2023-04-29T12:34:40.007921Z",
     "end_time": "2023-04-29T12:34:40.301985Z"
    }
   }
  },
  {
   "cell_type": "code",
   "execution_count": 223,
   "outputs": [
    {
     "name": "stdout",
     "output_type": "stream",
     "text": [
      "['192.168.100.3' '192.168.100.3' '192.168.100.147' '192.168.100.3'\n",
      " '192.168.100.147' '192.168.100.147' '192.168.100.3' '192.168.100.3'\n",
      " '192.168.100.3' '192.168.100.148' '192.168.100.3' '192.168.100.147'\n",
      " '192.168.100.3' '192.168.100.147' '192.168.100.150' '192.168.100.148'\n",
      " '192.168.100.3' '192.168.100.3' '192.168.100.148' '192.168.100.147']\n",
      "Accuracy of Decision Tree Classifier: 0.2\n"
     ]
    }
   ],
   "source": [
    "# Decision Tree Classifier\n",
    "\n",
    "p = df['pkts'].values.reshape(-1, 1)\n",
    "q = df['saddr']\n",
    "\n",
    "p_train, p_test, q_train, q_test = train_test_split(p, q, test_size = 0.2, random_state = 42)\n",
    "\n",
    "from sklearn.tree import DecisionTreeClassifier\n",
    "classifier = DecisionTreeClassifier()\n",
    "classifier.fit(p_train,q_train)\n",
    "\n",
    "y_pred = classifier.predict(p_test)\n",
    "print(y_pred)\n",
    "# print(y_pred)\n",
    "accuracy = accuracy_score(q_test, y_pred)\n",
    "print(\"Accuracy of Decision Tree Classifier:\", accuracy)"
   ],
   "metadata": {
    "collapsed": false,
    "ExecuteTime": {
     "start_time": "2023-04-29T11:59:21.088457Z",
     "end_time": "2023-04-29T11:59:21.102458Z"
    }
   }
  },
  {
   "cell_type": "code",
   "execution_count": null,
   "outputs": [],
   "source": [],
   "metadata": {
    "collapsed": false
   }
  }
 ],
 "metadata": {
  "kernelspec": {
   "display_name": "Python 3",
   "language": "python",
   "name": "python3"
  },
  "language_info": {
   "codemirror_mode": {
    "name": "ipython",
    "version": 2
   },
   "file_extension": ".py",
   "mimetype": "text/x-python",
   "name": "python",
   "nbconvert_exporter": "python",
   "pygments_lexer": "ipython2",
   "version": "2.7.6"
  }
 },
 "nbformat": 4,
 "nbformat_minor": 0
}
