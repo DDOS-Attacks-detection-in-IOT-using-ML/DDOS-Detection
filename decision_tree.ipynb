{
 "cells": [
  {
   "cell_type": "code",
   "execution_count": 2,
   "metadata": {
    "collapsed": true,
    "ExecuteTime": {
     "start_time": "2023-04-29T15:20:58.456797Z",
     "end_time": "2023-04-29T15:20:58.853439Z"
    }
   },
   "outputs": [],
   "source": [
    "import pandas  as pd\n",
    "from sklearn.model_selection import train_test_split\n",
    "from sklearn.tree import DecisionTreeClassifier\n",
    "from sklearn.metrics import accuracy_score"
   ]
  },
  {
   "cell_type": "code",
   "execution_count": 3,
   "outputs": [],
   "source": [
    "df_train = pd.read_csv('https://raw.githubusercontent.com/DDOS-Attacks-detection-in-IOT-using-ML/DDOS-Detection/main/DDoSdata.csv')\n",
    "df = df_train.copy()\n",
    "df.drop(['Unnamed: 0'],inplace=True,axis=1)"
   ],
   "metadata": {
    "collapsed": false,
    "ExecuteTime": {
     "start_time": "2023-04-29T15:21:00.590797Z",
     "end_time": "2023-04-29T15:21:00.672566Z"
    }
   }
  },
  {
   "cell_type": "code",
   "execution_count": 5,
   "outputs": [
    {
     "name": "stdout",
     "output_type": "stream",
     "text": [
      "[0 0 0 0 0 0 0 0 0 1]\n",
      "Accuracy of Decision Tree Classifier: 0.9\n"
     ]
    }
   ],
   "source": [
    "# Decision Tree Classifier\n",
    "\n",
    "p = df['pkts'].values.reshape(-1, 1)\n",
    "q = df['attack']\n",
    "\n",
    "p_train, p_test, q_train, q_test = train_test_split(p, q, test_size = 0.1, random_state = 42)\n",
    "\n",
    "classifier = DecisionTreeClassifier()\n",
    "classifier.fit(p_train,q_train)\n",
    "\n",
    "y_pred = classifier.predict(p_test)\n",
    "print(y_pred)\n",
    "# print(y_pred)\n",
    "accuracy = accuracy_score(q_test, y_pred)\n",
    "print(\"Accuracy of Decision Tree Classifier:\", accuracy)"
   ],
   "metadata": {
    "collapsed": false,
    "ExecuteTime": {
     "start_time": "2023-04-29T15:21:09.679856Z",
     "end_time": "2023-04-29T15:21:09.690350Z"
    }
   }
  },
  {
   "cell_type": "code",
   "execution_count": null,
   "outputs": [],
   "source": [],
   "metadata": {
    "collapsed": false
   }
  }
 ],
 "metadata": {
  "kernelspec": {
   "display_name": "Python 3",
   "language": "python",
   "name": "python3"
  },
  "language_info": {
   "codemirror_mode": {
    "name": "ipython",
    "version": 2
   },
   "file_extension": ".py",
   "mimetype": "text/x-python",
   "name": "python",
   "nbconvert_exporter": "python",
   "pygments_lexer": "ipython2",
   "version": "2.7.6"
  }
 },
 "nbformat": 4,
 "nbformat_minor": 0
}
